{
 "cells": [
  {
   "cell_type": "markdown",
   "metadata": {},
   "source": [
    "# Problem\n",
    "\n",
    "A sequence is an ordered collection of objects (usually numbers), which are allowed to repeat. Sequences can be finite or infinite. Two examples are the finite sequence (π,−2‾√,0,π) and the infinite sequence of odd numbers (1,3,5,7,9,…). We use the notation an to represent the n-th term of a sequence.\n",
    "\n",
    "A recurrence relation is a way of defining the terms of a sequence with respect to the values of previous terms. In the case of Fibonacci's rabbits from the introduction, any given month will contain the rabbits that were alive the previous month, plus any new offspring. A key observation is that the number of offspring in any month is equal to the number of rabbits that were alive two months prior. As a result, if Fn represents the number of rabbit pairs alive after the n-th month, then we obtain the Fibonacci sequence having terms Fn that are defined by the recurrence relation Fn=Fn−1+Fn−2 (with F1=F2=1 to initiate the sequence). Although the sequence bears Fibonacci's name, it was known to Indian mathematicians over two millennia ago.\n",
    "\n",
    "When finding the n-th term of a sequence defined by a recurrence relation, we can simply use the recurrence relation to generate terms for progressively larger values of n. This problem introduces us to the computational technique of dynamic programming, which successively builds up solutions by using the answers to smaller cases.\n",
    "\n",
    "Given: Positive integers n≤40 and k≤5.\n",
    "\n",
    "Return: The total number of rabbit pairs that will be present after n months, if we begin with 1 pair and in each generation, every pair of reproduction-age rabbits produces a litter of k rabbit pairs (instead of only 1 pair).\n",
    "\n",
    "Sample Dataset\n",
    "\n",
    "5 3\n",
    "\n",
    "Sample Output\n",
    "\n",
    "19\n"
   ]
  },
  {
   "cell_type": "code",
   "execution_count": 72,
   "metadata": {},
   "outputs": [
    {
     "name": "stdout",
     "output_type": "stream",
     "text": [
      "31 3 [1, 1]\n"
     ]
    }
   ],
   "source": [
    "# Open file and return a corresponding file object\n",
    "text = open(\"rosalind_fib.txt\", \"rt\")\n",
    "\n",
    "# Read the content of the file\n",
    "dataset = text.read()\n",
    "\n",
    "# clode the file\n",
    "text.close()\n",
    "\n",
    "# experiment months\n",
    "n = dataset.split()[0]\n",
    "n = int(n)\n",
    "\n",
    "# rabbit pairs produced each month\n",
    "k = dataset.split()[1]\n",
    "k = int(k)\n",
    "\n",
    "# list of rabbit pairs after each month (F1 = F2 = 1)\n",
    "pairlist = [1,1]\n",
    "\n",
    "print(n, k, pairlist)\n",
    "\n",
    "\n"
   ]
  },
  {
   "cell_type": "code",
   "execution_count": 73,
   "metadata": {},
   "outputs": [
    {
     "name": "stdout",
     "output_type": "stream",
     "text": [
      "47079164257\n"
     ]
    }
   ],
   "source": [
    "# month 0 (python starts at 0)\n",
    "# print current month\n",
    "#print(\"current month:\", 0)\n",
    "\n",
    "# The population begins in the first month with a pair of newborn rabbits.\n",
    "# the number of rabbit pairs alive after the n-th month\n",
    "Fn = pairlist[0]\n",
    "\n",
    "# Fn−1 the number of rabbit pairs alive after n-1th month\n",
    "FnMinus1 = Fn\n",
    "\n",
    "# Fn−2 the number of rabbit pairs alive after n-2th month\n",
    "FnMinus2 = Fn\n",
    "\n",
    "# print current pair\n",
    "#print(\"current amount of rabbit pair:\", Fn)\n",
    "\n",
    "# Rabbits reach reproductive age after one month.\n",
    "# update the amount of rabbit pair that will be of reproductive age next month\n",
    "#print(\"amount of rabbit pair that will be of reproductive age next month:\", Fn)\n",
    "\n",
    "# mark the calendar\n",
    "#print(\"happy new month!\")\n",
    "\n",
    "for month in range(1, n-1):\n",
    "    # print current month (1)\n",
    "    #print(\"current month:\", month)\n",
    "    \n",
    "    # print amount of offspring\n",
    "    #print(FnMinus2, \"number of offspring at the end of this month\")\n",
    "    \n",
    "    # number of rabbit pairs alive at the end of this month\n",
    "    Fn = pairlist[month]\n",
    "    \n",
    "    # print amount of current pairs\n",
    "    #print(Fn, \"rabbit pairs at the end of this month\")\n",
    "    \n",
    "    # update the amount of rabbit pair that will be of reproductive age next month\n",
    "    #print(\"amount of rabbit pair that will be of reproductive age next month:\", Fn)\n",
    "    \n",
    "    # mark the calendar\n",
    "    #print(\"happy new month!\")\n",
    "    \n",
    "    # update rabbit stock\n",
    "    # the number of rabbit pairs alive after the n-th month\n",
    "    # any given month will contain the rabbits that were alive the previous month, plus any new offspring\n",
    "    \n",
    "    # rabbit pairs that were alive the previous month\n",
    "    FnMinus1 = Fn\n",
    "    \n",
    "    # new offspring\n",
    "    FnMinus2 = pairlist[month - 1] * k\n",
    "    \n",
    "    # new month's total rabbit pairs\n",
    "    pairlist.append(FnMinus1 + FnMinus2)\n",
    "    \n",
    "\n",
    "    \n",
    "# print Fn amount of rabbit pair that will be of reproductive age next month\n",
    "print(pairlist[n-1])\n",
    "    "
   ]
  },
  {
   "cell_type": "code",
   "execution_count": null,
   "metadata": {},
   "outputs": [],
   "source": []
  }
 ],
 "metadata": {
  "kernelspec": {
   "display_name": "Python 3 (ipykernel)",
   "language": "python",
   "name": "python3"
  },
  "language_info": {
   "codemirror_mode": {
    "name": "ipython",
    "version": 3
   },
   "file_extension": ".py",
   "mimetype": "text/x-python",
   "name": "python",
   "nbconvert_exporter": "python",
   "pygments_lexer": "ipython3",
   "version": "3.9.7"
  }
 },
 "nbformat": 4,
 "nbformat_minor": 4
}
