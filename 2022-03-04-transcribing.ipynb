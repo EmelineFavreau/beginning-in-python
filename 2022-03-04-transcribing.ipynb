{
 "cells": [
  {
   "cell_type": "markdown",
   "metadata": {},
   "source": [
    "#  Problem 2022-03-04\n",
    "\n",
    "Problem\n",
    "\n",
    "An RNA string is a string formed from the alphabet containing 'A', 'C', 'G', and 'U'.\n",
    "\n",
    "Given a DNA string t\n",
    "corresponding to a coding strand, its transcribed RNA string u is formed by replacing all occurrences of 'T' in t with 'U' in u.\n",
    "\n",
    "Given: A DNA string t having length at most 1000 nt.\n",
    "\n",
    "Return: The transcribed RNA string of t.\n",
    "\n",
    "Sample Dataset\n",
    "\n",
    "GATGGAACTTGACTACGTAAATT\n",
    "\n",
    "Sample Output\n",
    "\n",
    "GAUGGAACUUGACUACGUAAAUU"
   ]
  },
  {
   "cell_type": "code",
   "execution_count": 3,
   "metadata": {},
   "outputs": [
    {
     "name": "stdout",
     "output_type": "stream",
     "text": [
      "GGUAAGUCGUCCCAUUCUAAAGACCUGCUAACCUUAAGGUAUUUGACAUCGCAGAUACCGCGUGGUGCCUCCGUCUUAUCUCAUUUUGGCAACUAACGACGGACAACUCAAAUUCUCACGCUCGGCAAAUUCUGGAUCACUGAUGAAGCGCUCCGGUCCAAUACGGGAUGCGGCUCAGCGCCGCGUCCUGGCCUCGGUUUAUUCGGUCGCGUUACCCGGAUACCCUUUGCCAAGGGGCAUGGAGGUGAGGUACGACUUCUCCUCACUAGUACUCUCGUUUUGAGGUUACGCAGUAAUUUUAGGCAGACGCGCGGGGGAGGUGUGUCUUAUUGCCCGGUUGCACAGCUUAAAUUAAUCUCCUCAACACCCUUCAACUCAGCCACUAGGGGUAUUGACUUGAGACCUUAAUCACGAUACUGUAUGGGGAAGUAUGGAGCGGUAUCGCUAUAGAUGCGUUGAGAAAGAAAUCGCGCGUCCUGUCGCUACGUCUUCAUUUAGCCUAGGGUCCUCUGAUCAGACAUCAGCUCGACGCUAACACACUUCGCGCCAGGGGGGUGGUCCACUCUCUUUCGCAUGUAUGUCGCAUUAGUACUAUAGGGUUUAUCAACUCCAGAUCGCCGCUUUUGAAGCGGCAUAACUGCCUUACCAUAGAAUAUUCAAUUUGGAAACGUAGGGUAUAACGACAUACUUGCCCCGUGGGGCAGGCUGAUGGGUGUGAAGCAUUAUGGGUCCCCCAGCUUAGCCAGUCUGAAUAGCAAUCCACGCGAGGUUCCUAUAUAGAGGAAUCCCGUUCCUUUUCGUCGCGUCCUCUAUAACCUGCUCGGGAUCAGCCACCAAUGCAGGAAGAUCCCACCUUACAGAUCCGCUGAUAAGAAACGACUUUUUAACUGAGCCAAGCCUUCAAGAUGGCC\n",
      "\n"
     ]
    }
   ],
   "source": [
    "# read in the dataset\n",
    "#dataset = 'GATGGAACTTGACTACGTAAATT'\n",
    "# Open file and return a corresponding file object\n",
    "text = open(\"rosalind_rna.txt\", \"rt\")\n",
    "\n",
    "# Read the content of the file\n",
    "dataset = text.read()\n",
    "\n",
    "# close the file\n",
    "text.close()\n",
    "\n",
    "# import the module regular expression re\n",
    "import re\n",
    "\n",
    "# change all T for a U\n",
    "# re.sub(pattern, repl, string, count=0, flags=0)\n",
    "# Return the string obtained by replacing the \n",
    "# leftmost non-overlapping occurrences of pattern in string by the replacement repl.\n",
    "rnadataset = re.sub(\"T\", \"U\" , dataset, count=0, flags=0)\n",
    "\n",
    "# print counts of each nucleotide type, separated by a space\n",
    "print(rnadataset)"
   ]
  }
 ],
 "metadata": {
  "kernelspec": {
   "display_name": "Python 3 (ipykernel)",
   "language": "python",
   "name": "python3"
  },
  "language_info": {
   "codemirror_mode": {
    "name": "ipython",
    "version": 3
   },
   "file_extension": ".py",
   "mimetype": "text/x-python",
   "name": "python",
   "nbconvert_exporter": "python",
   "pygments_lexer": "ipython3",
   "version": "3.9.7"
  }
 },
 "nbformat": 4,
 "nbformat_minor": 4
}
