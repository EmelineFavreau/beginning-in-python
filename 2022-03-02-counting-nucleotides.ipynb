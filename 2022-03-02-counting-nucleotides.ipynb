{
 "cells": [
  {
   "cell_type": "markdown",
   "metadata": {},
   "source": [
    "# Problem 2022-03-02\n",
    "\n",
    "A string is simply an ordered collection of symbols selected from some alphabet and formed into a word; the length of a string is the number of symbols that it contains.\n",
    "\n",
    "An example of a length 21 DNA string (whose alphabet contains the symbols 'A', 'C', 'G', and 'T') is \"ATGCTTCAGAAAGGTCTTACG.\"\n",
    "\n",
    "Given: A DNA string s\n",
    "\n",
    "of length at most 1000 nt.\n",
    "\n",
    "Return: Four integers (separated by spaces) counting the respective number of times that the symbols 'A', 'C', 'G', and 'T' occur in s\n",
    "\n",
    "Sample Dataset\n",
    "\n",
    "AGCTTTTCATTCTGACTGCAACGGGCAATATGTCTCTGTGTGGATTAAAAAAAGAGTGTCTGATAGCAGC\n",
    "\n",
    "Sample Output\n",
    "\n",
    "20 12 17 21\n"
   ]
  },
  {
   "cell_type": "code",
   "execution_count": 6,
   "metadata": {},
   "outputs": [
    {
     "name": "stdout",
     "output_type": "stream",
     "text": [
      "234 237 259 254\n"
     ]
    }
   ],
   "source": [
    "# read in the dataset\n",
    "#dataset = 'AGCTTTTCATTCTGACTGCAACGGGCAATATGTCTCTGTGTGGATTAAAAAAAGAGTGTCTGATAGCAGC'\n",
    "# Open file and return a corresponding file object\n",
    "text = open(\"rosalind_dna.txt\", \"rt\")\n",
    "\n",
    "# Read the content of the file\n",
    "dataset = text.read()\n",
    "\n",
    "# clode the file\n",
    "text.close()\n",
    "\n",
    "# create count of A\n",
    "acount = str(dataset.count('A'))\n",
    "ccount = str(dataset.count('C'))\n",
    "gcount = str(dataset.count('G'))\n",
    "tcount = str(dataset.count('T'))\n",
    "\n",
    "# print counts of each nucleotide type, separated by a space\n",
    "print(acount, ccount, gcount, tcount)"
   ]
  }
 ],
 "metadata": {
  "kernelspec": {
   "display_name": "Python 3 (ipykernel)",
   "language": "python",
   "name": "python3"
  },
  "language_info": {
   "codemirror_mode": {
    "name": "ipython",
    "version": 3
   },
   "file_extension": ".py",
   "mimetype": "text/x-python",
   "name": "python",
   "nbconvert_exporter": "python",
   "pygments_lexer": "ipython3",
   "version": "3.9.7"
  }
 },
 "nbformat": 4,
 "nbformat_minor": 4
}
