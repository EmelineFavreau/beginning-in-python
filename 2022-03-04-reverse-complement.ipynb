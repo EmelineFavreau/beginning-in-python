{
 "cells": [
  {
   "cell_type": "markdown",
   "metadata": {},
   "source": [
    "# Problem\n",
    "\n",
    "In DNA strings, symbols 'A' and 'T' are complements of each other, as are 'C' and 'G'.\n",
    "\n",
    "The reverse complement of a DNA string s is the string sc formed by reversing the symbols of s,\n",
    "then taking the complement of each symbol (e.g., the reverse complement of \"GTCA\" is \"TGAC\").\n",
    "\n",
    "Given: A DNA string s of length at most 1000 bp.\n",
    "Return: The reverse complement sc of s.\n",
    "\n",
    "Sample Dataset\n",
    "\n",
    "AAAACCCGGT\n",
    "\n",
    "Sample Output\n",
    "\n",
    "ACCGGGTTTT"
   ]
  },
  {
   "cell_type": "code",
   "execution_count": 19,
   "metadata": {},
   "outputs": [
    {
     "name": "stdout",
     "output_type": "stream",
     "text": [
      "\n",
      "ACGGGACCGAACGTTGTGTCGCGGGTGGCGATCAGCACGGTGCGCGCGTACATGATCACAACGCGCCGGTGTTGGAAGTTCTCAGACACTTGGCTGTCATCGGCCAGGTGCGCCAAAATGGACCTAGTTCGTGTCCAAGTAGGTAAGTCTTACCATCCTAGTCCCACCGCGCAAATTGACAGTCTAAAATTTGTTAGCTGGTGGATCATTCTGATAGCGTCAAATCAGCTCCTATTGAGAGGCATGTTAATTCGAATCGCGGCCATTCATTATCGCCCAATAAATACAAGCTCCTATTAGGGGTGAGTGTCTAGCTATTAATAGATAGCAAGTTAATGAACGGTACTAAAATTAATATGCAGAGTGTCATCTAAAAATCTTCGTGAGTAGCACCTATCGCCCCCACGGGCCACTGAGCCATTATTCTGGCGAAGCATGAGATTGAGTGCAAGGGTTTATTCCAGTGCGATACAGTTTGCCGAGCTAGGCTTAGGCACGTGACCGACCTCCCGCTGCCTGAGTCCGGAACCCCCGTGGCTAAACGTTGCAAGTCGAGGGGGAATCGGGAAGTCGACCGGCAAAGACGACTTATGTCCAGATTGACTAGGCGAATTAGACCCCTTATAGGTGCTAATTGGAAAGTTTAGGGGGCCATTGGCCCTGGGCAGTGGCGTCAGAAGAATCCTATTGTTTCGCGTTTGGTCTGTTTAGGCGCCCTGCACTAGACTAATAAGTTATCGTCCATACACGCGCATAAGATTTTAGGCCTCTGCTGGGCTAAATTAAACTGCTTTCACTTGACTCTAACATGTACGCGCAGCCGGGTAAAGACACGAACTACCAGGTAATTGACCGCGTTCTATCACGCGCCTGTAGCGTCGACCCAGGCCGCCAAGACCAGGCGCCATTCTAGGGCCTCCATGAACCTCGCTGTTTGCCTAGGTATTCGCTCCAAA\n"
     ]
    }
   ],
   "source": [
    "# read in the dataset\n",
    "#dataset = 'AAAACCCGGT'\n",
    "# Open file and return a corresponding file object\n",
    "text = open(\"rosalind_revc.txt\", \"rt\")\n",
    "\n",
    "# Read the content of the file\n",
    "dataset = text.read()\n",
    "\n",
    "# close the file\n",
    "text.close()\n",
    "\n",
    "# import the module regular expression re\n",
    "import re\n",
    "\n",
    "# reverse the string: the position of each letter is reversed in the string\n",
    "# The fastest (and easiest?) way is to use a slice that steps backwards, -1.\n",
    "# In this particular example, the slice statement [::-1] means start at the \n",
    "# end of the string and end at position 0, move with the step -1, negative one,\n",
    "# which means one step backwards. \n",
    "reversedataset = dataset[::-1]\n",
    "\n",
    "print(reversedataset)"
   ]
  },
  {
   "cell_type": "code",
   "execution_count": 20,
   "metadata": {},
   "outputs": [
    {
     "name": "stdout",
     "output_type": "stream",
     "text": [
      "\n",
      "TGCCCTGGCTTGCAACACAGCGCCCACCGCTAGTCGTGCCACGCGCGCATGTACTAGTGTTGCGCGGCCACAACCTTCAAGAGTCTGTGAACCGACAGTAGCCGGTCCACGCGGTTTTACCTGGATCAAGCACAGGTTCATCCATTCAGAATGGTAGGATCAGGGTGGCGCGTTTAACTGTCAGATTTTAAACAATCGACCACCTAGTAAGACTATCGCAGTTTAGTCGAGGATAACTCTCCGTACAATTAAGCTTAGCGCCGGTAAGTAATAGCGGGTTATTTATGTTCGAGGATAATCCCCACTCACAGATCGATAATTATCTATCGTTCAATTACTTGCCATGATTTTAATTATACGTCTCACAGTAGATTTTTAGAAGCACTCATCGTGGATAGCGGGGGTGCCCGGTGACTCGGTAATAAGACCGCTTCGTACTCTAACTCACGTTCCCAAATAAGGTCACGCTATGTCAAACGGCTCGATCCGAATCCGTGCACTGGCTGGAGGGCGACGGACTCAGGCCTTGGGGGCACCGATTTGCAACGTTCAGCTCCCCCTTAGCCCTTCAGCTGGCCGTTTCTGCTGAATACAGGTCTAACTGATCCGCTTAATCTGGGGAATATCCACGATTAACCTTTCAAATCCCCCGGTAACCGGGACCCGTCACCGCAGTCTTCTTAGGATAACAAAGCGCAAACCAGACAAATCCGCGGGACGTGATCTGATTATTCAATAGCAGGTATGTGCGCGTATTCTAAAATCCGGAGACGACCCGATTTAATTTGACGAAAGTGAACTGAGATTGTACATGCGCGTCGGCCCATTTCTGTGCTTGATGGTCCATTAACTGGCGCAAGATAGTGCGCGGACATCGCAGCTGGGTCCGGCGGTTCTGGTCCGCGGTAAGATCCCGGAGGTACTTGGAGCGACAAACGGATCCATAAGCGAGGTTT\n"
     ]
    }
   ],
   "source": [
    "# then taking the complement of each symbol (e.g., the reverse complement of \"GTCA\" is \"TGAC\").\n",
    "# https://codereview.stackexchange.com/questions/151329/reverse-complement-of-a-dna-string\n",
    "\n",
    "# This static method returns a translation table usable for str.translate().\n",
    "trans = str.maketrans('ATGC', 'TACG')\n",
    "\n",
    "# The translate() method returns a string where some specified characters are replaced \n",
    "# with the character described in a dictionary, or in a mapping table.\n",
    "reversecomplement = reversedataset.translate(trans)\n",
    "\n",
    "# print reverse complement\n",
    "print(reversecomplement)"
   ]
  }
 ],
 "metadata": {
  "kernelspec": {
   "display_name": "Python 3 (ipykernel)",
   "language": "python",
   "name": "python3"
  },
  "language_info": {
   "codemirror_mode": {
    "name": "ipython",
    "version": 3
   },
   "file_extension": ".py",
   "mimetype": "text/x-python",
   "name": "python",
   "nbconvert_exporter": "python",
   "pygments_lexer": "ipython3",
   "version": "3.9.7"
  }
 },
 "nbformat": 4,
 "nbformat_minor": 4
}
